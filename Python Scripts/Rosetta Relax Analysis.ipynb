{
 "cells": [
  {
   "cell_type": "code",
   "execution_count": null,
   "id": "26d0d5a9",
   "metadata": {},
   "outputs": [],
   "source": [
    "#load libraries first\n",
    "import numpy as np\n",
    "import pandas as pd\n",
    "import matplotlib.pyplot as plt\n",
    "%matplotlib inline\n",
    "import seaborn as sns"
   ]
  },
  {
   "cell_type": "code",
   "execution_count": null,
   "id": "8193f050",
   "metadata": {},
   "outputs": [],
   "source": [
    "#Reading from Rosetta Raw Relax Score File in scores.csv \"PS: Make sure you are in the correct directory\"\n",
    "relaxed=pd.read_csv('./output/yourcagename/scores.csv', header=0, delim_whitespace=True)"
   ]
  },
  {
   "cell_type": "code",
   "execution_count": null,
   "id": "a5fd2660",
   "metadata": {},
   "outputs": [],
   "source": [
    "#Dropping the annoying SCORE column\n",
    "relaxed_scores=relaxed.drop(['SCORE:'],axis=1)\n",
    "relaxed_scores"
   ]
  },
  {
   "cell_type": "code",
   "execution_count": null,
   "id": "f9ce8f77",
   "metadata": {},
   "outputs": [],
   "source": [
    "#Run this to get the lowest score\n",
    "relaxed_scores.total_score.min(axis=0)"
   ]
  },
  {
   "cell_type": "code",
   "execution_count": null,
   "id": "aa1f0baa",
   "metadata": {},
   "outputs": [],
   "source": [
    "#Plot whatever if you wanna and save the figure\n",
    "plt.scatter(relaxed_scores['rmsd_asu'], relaxed_scores['total_score'], label='Score Vs RMSD', linestyle='-')\n",
    "plt.title('Score Vs RMSD')\n",
    "plt.xlabel('RMSD')\n",
    "plt.ylabel('Score')\n",
    "plt.legend(loc='best')\n",
    "plt.savefig('yourplotname.png')\n",
    "plt.show()"
   ]
  }
 ],
 "metadata": {
  "kernelspec": {
   "display_name": "Python 3 (ipykernel)",
   "language": "python",
   "name": "python3"
  },
  "language_info": {
   "codemirror_mode": {
    "name": "ipython",
    "version": 3
   },
   "file_extension": ".py",
   "mimetype": "text/x-python",
   "name": "python",
   "nbconvert_exporter": "python",
   "pygments_lexer": "ipython3",
   "version": "3.9.7"
  },
  "vp": {
   "vp_config_version": "1.0.0",
   "vp_menu_width": 273,
   "vp_note_display": true,
   "vp_note_width": 263,
   "vp_position": {
    "width": 541
   },
   "vp_section_display": false,
   "vp_signature": "VisualPython"
  }
 },
 "nbformat": 4,
 "nbformat_minor": 5
}
